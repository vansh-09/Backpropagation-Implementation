{
  "nbformat": 4,
  "nbformat_minor": 0,
  "metadata": {
    "colab": {
      "provenance": []
    },
    "kernelspec": {
      "name": "python3",
      "display_name": "Python 3"
    },
    "language_info": {
      "name": "python"
    }
  },
  "cells": [
    {
      "cell_type": "markdown",
      "source": [
        "# **Goal: 2-layer neural net trained on XOR using backpropagation from scratch.**\n"
      ],
      "metadata": {
        "id": "cToBkJHZEkLW"
      }
    },
    {
      "cell_type": "markdown",
      "source": [
        "# Importing the Dependencies"
      ],
      "metadata": {
        "id": "O1FNgUeNEeg4"
      }
    },
    {
      "cell_type": "code",
      "source": [
        "import numpy as np\n",
        "import matplotlib.pyplot as plt"
      ],
      "metadata": {
        "id": "JKjLtXUxEjhn"
      },
      "execution_count": 2,
      "outputs": []
    },
    {
      "cell_type": "markdown",
      "source": [
        "#  ***Backpropagation Formulae Breakdown (with Variable Meanings)***\n",
        "\n",
        "---\n",
        "\n",
        "###  Forward Pass:\n",
        "\n",
        " $$ z = XW + b $$  \n",
        "  • `X` → input vector (e.g., [0, 1])  \n",
        "  • `W` → weight matrix  \n",
        "  • `b` → bias vector  \n",
        "  • `z` → weighted sum going into activation  \n",
        "\n",
        "---\n",
        "###  Activation Function:\n",
        "\n",
        " $$ a = \\sigma(z) $$  \n",
        "  • `σ(z)` → activation function (sigmoid) output  \n",
        "  • `a` → activation of the neuron\n",
        "\n",
        "---\n",
        "\n",
        "###  Loss Function:\n",
        "\n",
        " $$ \\text{Loss} = \\frac{1}{n} \\sum (y - \\hat{y})^2 $$  \n",
        "  • `y` → true target values  \n",
        "  • `ŷ` → predicted output from network  \n",
        "  • `n` → number of training examples  \n",
        "  • This is Mean Squared Error (MSE)\n",
        "\n",
        "---\n",
        "\n",
        "###  Gradients (Error Signals):\n",
        "\n",
        "####  Output Layer Delta:\n",
        "\n",
        "$$ \\delta_j = o_j (1 - o_j) (t_j - o_j) $$  \n",
        "  • `o_j` → output of neuron `j`  \n",
        "  • `t_j` → target output for neuron `j`  \n",
        "  • `δ_j` → error signal for output neuron `j`\n",
        "\n",
        "####  Hidden Layer Delta:\n",
        "\n",
        " $$ \\delta_j = o_j (1 - o_j) \\sum_k w_{jk} \\delta_k $$  \n",
        "  • `o_j` → output from hidden neuron `j`  \n",
        "  • `w_{jk}` → weight from hidden neuron `j` to output neuron `k`  \n",
        "  • `δ_k` → delta of the next (output) layer neuron `k`  \n",
        "  • `δ_j` → backpropagated error signal for hidden neuron `j`\n",
        "\n",
        "---\n",
        "\n",
        "###  Weight Update Rule:\n",
        "\n",
        " $$ W = W + \\eta \\cdot \\delta \\cdot \\text{input}^T $$  \n",
        "  • `W` → current weight matrix  \n",
        "  • `η` → learning rate  \n",
        "  • `δ` → error signal of the neuron  \n",
        "  • `input^T` → transposed input vector (acts like a multiplier to each neuron)\n",
        "\n",
        "---\n",
        "\n",
        " This formulation is for a fully connected feedforward neural network with **sigmoid activations** and **MSE loss**."
      ],
      "metadata": {
        "id": "TYsISlVfKEcM"
      }
    },
    {
      "cell_type": "code",
      "execution_count": 3,
      "metadata": {
        "id": "9ntfDxnoBg1z"
      },
      "outputs": [],
      "source": [
        "# Step 1: Activation Function + Derivative\n",
        "def sigmoid(x):\n",
        "    return 1 / (1 + np.exp(-x))\n",
        "def sigmoid_deriv(x):\n",
        "    return x * (1 - x)  # assuming x = sigmoid(x)"
      ]
    },
    {
      "cell_type": "markdown",
      "source": [
        "# XOR Problem Setup"
      ],
      "metadata": {
        "id": "Vo6kjSWODmDS"
      }
    },
    {
      "cell_type": "code",
      "source": [
        "# Step 2: Input and Output (XOR problem)\n",
        "X = np.array([\n",
        "    [0, 0],\n",
        "    [0, 1],\n",
        "    [1, 0],\n",
        "    [1, 1]])\n",
        "\n",
        "y = np.array([\n",
        "    [0],\n",
        "    [1],\n",
        "    [1],\n",
        "    [0]])\n"
      ],
      "metadata": {
        "id": "fDPClnkRE6yU"
      },
      "execution_count": 4,
      "outputs": []
    },
    {
      "cell_type": "markdown",
      "source": [
        "#  Neural Network Architecture"
      ],
      "metadata": {
        "id": "GQel-Nu7DWqE"
      }
    },
    {
      "cell_type": "code",
      "source": [
        "# Step 3: Initialize weights\n",
        "np.random.seed(42)\n",
        "w1 = np.random.randn(2, 4) * 0.5  # input to hidden\n",
        "w2 = np.random.randn(4, 1) * 0.5  # hidden to output"
      ],
      "metadata": {
        "id": "FJEJzkOgFE4n"
      },
      "execution_count": 5,
      "outputs": []
    },
    {
      "cell_type": "code",
      "source": [
        "# Storage for visualization\n",
        "loss_history = []\n",
        "w1_snapshot = []\n",
        "w2_snapshot = []"
      ],
      "metadata": {
        "id": "3Uf7zGATH52L"
      },
      "execution_count": 6,
      "outputs": []
    },
    {
      "cell_type": "markdown",
      "source": [
        "# Forward + Backward Propagation"
      ],
      "metadata": {
        "id": "sTX1QC0DDZtj"
      }
    },
    {
      "cell_type": "code",
      "source": [
        "# Step 4: Training Loop\n",
        "lr = 0.3\n",
        "for epoch in range(20000):\n",
        "    # FORWARD PASS\n",
        "    h_input = np.dot(X, w1)\n",
        "    h_output = sigmoid(h_input)\n",
        "    o_input = np.dot(h_output, w2)\n",
        "    o_output = sigmoid(o_input)\n",
        "\n",
        "    # BACKWARD PASS\n",
        "    error = y - o_output\n",
        "    o_delta = error * sigmoid_deriv(o_output)\n",
        "\n",
        "    h_error = o_delta.dot(w2.T)\n",
        "    h_delta = h_error * sigmoid_deriv(h_output)\n",
        "\n",
        "    # UPDATE WEIGHTS\n",
        "    w2 += h_output.T.dot(o_delta) * lr\n",
        "    w1 += X.T.dot(h_delta) * lr\n",
        "\n",
        "    # Track loss and weight snapshots\n",
        "    if epoch % 100 == 0:\n",
        "        loss = np.mean(np.square(error))\n",
        "        loss_history.append(loss)\n",
        "        w1_snapshot.append(w1.copy())\n",
        "        w2_snapshot.append(w2.copy())"
      ],
      "metadata": {
        "id": "aIl1cT21FIoA"
      },
      "execution_count": 7,
      "outputs": []
    },
    {
      "cell_type": "markdown",
      "source": [
        "# Printing the final outputs"
      ],
      "metadata": {
        "id": "ps8B7rhADLo-"
      }
    },
    {
      "cell_type": "code",
      "source": [
        "import pandas as pd\n",
        "pd.DataFrame({'Input1': X[:,0], 'Input2': X[:,1], 'Predicted': o_output.round(2).flatten()})"
      ],
      "metadata": {
        "colab": {
          "base_uri": "https://localhost:8080/",
          "height": 175
        },
        "id": "5jwFmpVKTLcG",
        "outputId": "4787c266-2954-4a0a-9e56-a0700010c5b2"
      },
      "execution_count": 8,
      "outputs": [
        {
          "output_type": "execute_result",
          "data": {
            "text/plain": [
              "   Input1  Input2  Predicted\n",
              "0       0       0       0.02\n",
              "1       0       1       0.98\n",
              "2       1       0       0.98\n",
              "3       1       1       0.02"
            ],
            "text/html": [
              "\n",
              "  <div id=\"df-f5931fe9-6985-428d-8c36-01f607eff656\" class=\"colab-df-container\">\n",
              "    <div>\n",
              "<style scoped>\n",
              "    .dataframe tbody tr th:only-of-type {\n",
              "        vertical-align: middle;\n",
              "    }\n",
              "\n",
              "    .dataframe tbody tr th {\n",
              "        vertical-align: top;\n",
              "    }\n",
              "\n",
              "    .dataframe thead th {\n",
              "        text-align: right;\n",
              "    }\n",
              "</style>\n",
              "<table border=\"1\" class=\"dataframe\">\n",
              "  <thead>\n",
              "    <tr style=\"text-align: right;\">\n",
              "      <th></th>\n",
              "      <th>Input1</th>\n",
              "      <th>Input2</th>\n",
              "      <th>Predicted</th>\n",
              "    </tr>\n",
              "  </thead>\n",
              "  <tbody>\n",
              "    <tr>\n",
              "      <th>0</th>\n",
              "      <td>0</td>\n",
              "      <td>0</td>\n",
              "      <td>0.02</td>\n",
              "    </tr>\n",
              "    <tr>\n",
              "      <th>1</th>\n",
              "      <td>0</td>\n",
              "      <td>1</td>\n",
              "      <td>0.98</td>\n",
              "    </tr>\n",
              "    <tr>\n",
              "      <th>2</th>\n",
              "      <td>1</td>\n",
              "      <td>0</td>\n",
              "      <td>0.98</td>\n",
              "    </tr>\n",
              "    <tr>\n",
              "      <th>3</th>\n",
              "      <td>1</td>\n",
              "      <td>1</td>\n",
              "      <td>0.02</td>\n",
              "    </tr>\n",
              "  </tbody>\n",
              "</table>\n",
              "</div>\n",
              "    <div class=\"colab-df-buttons\">\n",
              "\n",
              "  <div class=\"colab-df-container\">\n",
              "    <button class=\"colab-df-convert\" onclick=\"convertToInteractive('df-f5931fe9-6985-428d-8c36-01f607eff656')\"\n",
              "            title=\"Convert this dataframe to an interactive table.\"\n",
              "            style=\"display:none;\">\n",
              "\n",
              "  <svg xmlns=\"http://www.w3.org/2000/svg\" height=\"24px\" viewBox=\"0 -960 960 960\">\n",
              "    <path d=\"M120-120v-720h720v720H120Zm60-500h600v-160H180v160Zm220 220h160v-160H400v160Zm0 220h160v-160H400v160ZM180-400h160v-160H180v160Zm440 0h160v-160H620v160ZM180-180h160v-160H180v160Zm440 0h160v-160H620v160Z\"/>\n",
              "  </svg>\n",
              "    </button>\n",
              "\n",
              "  <style>\n",
              "    .colab-df-container {\n",
              "      display:flex;\n",
              "      gap: 12px;\n",
              "    }\n",
              "\n",
              "    .colab-df-convert {\n",
              "      background-color: #E8F0FE;\n",
              "      border: none;\n",
              "      border-radius: 50%;\n",
              "      cursor: pointer;\n",
              "      display: none;\n",
              "      fill: #1967D2;\n",
              "      height: 32px;\n",
              "      padding: 0 0 0 0;\n",
              "      width: 32px;\n",
              "    }\n",
              "\n",
              "    .colab-df-convert:hover {\n",
              "      background-color: #E2EBFA;\n",
              "      box-shadow: 0px 1px 2px rgba(60, 64, 67, 0.3), 0px 1px 3px 1px rgba(60, 64, 67, 0.15);\n",
              "      fill: #174EA6;\n",
              "    }\n",
              "\n",
              "    .colab-df-buttons div {\n",
              "      margin-bottom: 4px;\n",
              "    }\n",
              "\n",
              "    [theme=dark] .colab-df-convert {\n",
              "      background-color: #3B4455;\n",
              "      fill: #D2E3FC;\n",
              "    }\n",
              "\n",
              "    [theme=dark] .colab-df-convert:hover {\n",
              "      background-color: #434B5C;\n",
              "      box-shadow: 0px 1px 3px 1px rgba(0, 0, 0, 0.15);\n",
              "      filter: drop-shadow(0px 1px 2px rgba(0, 0, 0, 0.3));\n",
              "      fill: #FFFFFF;\n",
              "    }\n",
              "  </style>\n",
              "\n",
              "    <script>\n",
              "      const buttonEl =\n",
              "        document.querySelector('#df-f5931fe9-6985-428d-8c36-01f607eff656 button.colab-df-convert');\n",
              "      buttonEl.style.display =\n",
              "        google.colab.kernel.accessAllowed ? 'block' : 'none';\n",
              "\n",
              "      async function convertToInteractive(key) {\n",
              "        const element = document.querySelector('#df-f5931fe9-6985-428d-8c36-01f607eff656');\n",
              "        const dataTable =\n",
              "          await google.colab.kernel.invokeFunction('convertToInteractive',\n",
              "                                                    [key], {});\n",
              "        if (!dataTable) return;\n",
              "\n",
              "        const docLinkHtml = 'Like what you see? Visit the ' +\n",
              "          '<a target=\"_blank\" href=https://colab.research.google.com/notebooks/data_table.ipynb>data table notebook</a>'\n",
              "          + ' to learn more about interactive tables.';\n",
              "        element.innerHTML = '';\n",
              "        dataTable['output_type'] = 'display_data';\n",
              "        await google.colab.output.renderOutput(dataTable, element);\n",
              "        const docLink = document.createElement('div');\n",
              "        docLink.innerHTML = docLinkHtml;\n",
              "        element.appendChild(docLink);\n",
              "      }\n",
              "    </script>\n",
              "  </div>\n",
              "\n",
              "\n",
              "    <div id=\"df-9cf65caa-4e83-42d8-93da-6f8f2228e605\">\n",
              "      <button class=\"colab-df-quickchart\" onclick=\"quickchart('df-9cf65caa-4e83-42d8-93da-6f8f2228e605')\"\n",
              "                title=\"Suggest charts\"\n",
              "                style=\"display:none;\">\n",
              "\n",
              "<svg xmlns=\"http://www.w3.org/2000/svg\" height=\"24px\"viewBox=\"0 0 24 24\"\n",
              "     width=\"24px\">\n",
              "    <g>\n",
              "        <path d=\"M19 3H5c-1.1 0-2 .9-2 2v14c0 1.1.9 2 2 2h14c1.1 0 2-.9 2-2V5c0-1.1-.9-2-2-2zM9 17H7v-7h2v7zm4 0h-2V7h2v10zm4 0h-2v-4h2v4z\"/>\n",
              "    </g>\n",
              "</svg>\n",
              "      </button>\n",
              "\n",
              "<style>\n",
              "  .colab-df-quickchart {\n",
              "      --bg-color: #E8F0FE;\n",
              "      --fill-color: #1967D2;\n",
              "      --hover-bg-color: #E2EBFA;\n",
              "      --hover-fill-color: #174EA6;\n",
              "      --disabled-fill-color: #AAA;\n",
              "      --disabled-bg-color: #DDD;\n",
              "  }\n",
              "\n",
              "  [theme=dark] .colab-df-quickchart {\n",
              "      --bg-color: #3B4455;\n",
              "      --fill-color: #D2E3FC;\n",
              "      --hover-bg-color: #434B5C;\n",
              "      --hover-fill-color: #FFFFFF;\n",
              "      --disabled-bg-color: #3B4455;\n",
              "      --disabled-fill-color: #666;\n",
              "  }\n",
              "\n",
              "  .colab-df-quickchart {\n",
              "    background-color: var(--bg-color);\n",
              "    border: none;\n",
              "    border-radius: 50%;\n",
              "    cursor: pointer;\n",
              "    display: none;\n",
              "    fill: var(--fill-color);\n",
              "    height: 32px;\n",
              "    padding: 0;\n",
              "    width: 32px;\n",
              "  }\n",
              "\n",
              "  .colab-df-quickchart:hover {\n",
              "    background-color: var(--hover-bg-color);\n",
              "    box-shadow: 0 1px 2px rgba(60, 64, 67, 0.3), 0 1px 3px 1px rgba(60, 64, 67, 0.15);\n",
              "    fill: var(--button-hover-fill-color);\n",
              "  }\n",
              "\n",
              "  .colab-df-quickchart-complete:disabled,\n",
              "  .colab-df-quickchart-complete:disabled:hover {\n",
              "    background-color: var(--disabled-bg-color);\n",
              "    fill: var(--disabled-fill-color);\n",
              "    box-shadow: none;\n",
              "  }\n",
              "\n",
              "  .colab-df-spinner {\n",
              "    border: 2px solid var(--fill-color);\n",
              "    border-color: transparent;\n",
              "    border-bottom-color: var(--fill-color);\n",
              "    animation:\n",
              "      spin 1s steps(1) infinite;\n",
              "  }\n",
              "\n",
              "  @keyframes spin {\n",
              "    0% {\n",
              "      border-color: transparent;\n",
              "      border-bottom-color: var(--fill-color);\n",
              "      border-left-color: var(--fill-color);\n",
              "    }\n",
              "    20% {\n",
              "      border-color: transparent;\n",
              "      border-left-color: var(--fill-color);\n",
              "      border-top-color: var(--fill-color);\n",
              "    }\n",
              "    30% {\n",
              "      border-color: transparent;\n",
              "      border-left-color: var(--fill-color);\n",
              "      border-top-color: var(--fill-color);\n",
              "      border-right-color: var(--fill-color);\n",
              "    }\n",
              "    40% {\n",
              "      border-color: transparent;\n",
              "      border-right-color: var(--fill-color);\n",
              "      border-top-color: var(--fill-color);\n",
              "    }\n",
              "    60% {\n",
              "      border-color: transparent;\n",
              "      border-right-color: var(--fill-color);\n",
              "    }\n",
              "    80% {\n",
              "      border-color: transparent;\n",
              "      border-right-color: var(--fill-color);\n",
              "      border-bottom-color: var(--fill-color);\n",
              "    }\n",
              "    90% {\n",
              "      border-color: transparent;\n",
              "      border-bottom-color: var(--fill-color);\n",
              "    }\n",
              "  }\n",
              "</style>\n",
              "\n",
              "      <script>\n",
              "        async function quickchart(key) {\n",
              "          const quickchartButtonEl =\n",
              "            document.querySelector('#' + key + ' button');\n",
              "          quickchartButtonEl.disabled = true;  // To prevent multiple clicks.\n",
              "          quickchartButtonEl.classList.add('colab-df-spinner');\n",
              "          try {\n",
              "            const charts = await google.colab.kernel.invokeFunction(\n",
              "                'suggestCharts', [key], {});\n",
              "          } catch (error) {\n",
              "            console.error('Error during call to suggestCharts:', error);\n",
              "          }\n",
              "          quickchartButtonEl.classList.remove('colab-df-spinner');\n",
              "          quickchartButtonEl.classList.add('colab-df-quickchart-complete');\n",
              "        }\n",
              "        (() => {\n",
              "          let quickchartButtonEl =\n",
              "            document.querySelector('#df-9cf65caa-4e83-42d8-93da-6f8f2228e605 button');\n",
              "          quickchartButtonEl.style.display =\n",
              "            google.colab.kernel.accessAllowed ? 'block' : 'none';\n",
              "        })();\n",
              "      </script>\n",
              "    </div>\n",
              "\n",
              "    </div>\n",
              "  </div>\n"
            ],
            "application/vnd.google.colaboratory.intrinsic+json": {
              "type": "dataframe",
              "summary": "{\n  \"name\": \"pd\",\n  \"rows\": 4,\n  \"fields\": [\n    {\n      \"column\": \"Input1\",\n      \"properties\": {\n        \"dtype\": \"number\",\n        \"std\": 0,\n        \"min\": 0,\n        \"max\": 1,\n        \"num_unique_values\": 2,\n        \"samples\": [\n          1,\n          0\n        ],\n        \"semantic_type\": \"\",\n        \"description\": \"\"\n      }\n    },\n    {\n      \"column\": \"Input2\",\n      \"properties\": {\n        \"dtype\": \"number\",\n        \"std\": 0,\n        \"min\": 0,\n        \"max\": 1,\n        \"num_unique_values\": 2,\n        \"samples\": [\n          1,\n          0\n        ],\n        \"semantic_type\": \"\",\n        \"description\": \"\"\n      }\n    },\n    {\n      \"column\": \"Predicted\",\n      \"properties\": {\n        \"dtype\": \"number\",\n        \"std\": 0.5542562584220407,\n        \"min\": 0.02,\n        \"max\": 0.98,\n        \"num_unique_values\": 2,\n        \"samples\": [\n          0.98,\n          0.02\n        ],\n        \"semantic_type\": \"\",\n        \"description\": \"\"\n      }\n    }\n  ]\n}"
            }
          },
          "metadata": {},
          "execution_count": 8
        }
      ]
    },
    {
      "cell_type": "markdown",
      "source": [
        "# Visualization: Loss Curve"
      ],
      "metadata": {
        "id": "g9jPFqlP40Y8"
      }
    },
    {
      "cell_type": "code",
      "source": [
        "plt.figure(figsize=(10, 4))\n",
        "plt.plot(loss_history, label='Loss')\n",
        "plt.title(\"Loss over Training (XOR)\")\n",
        "plt.xlabel(\"Checkpoint (every 100 epochs)\")\n",
        "plt.ylabel(\"MSE Loss\")\n",
        "plt.grid(True)\n",
        "plt.legend()\n",
        "plt.show()"
      ],
      "metadata": {
        "colab": {
          "base_uri": "https://localhost:8080/",
          "height": 410
        },
        "id": "3nKe_yIXFQjz",
        "outputId": "b56bf906-dd9d-4a73-bf0f-cb001d7822ca"
      },
      "execution_count": 13,
      "outputs": [
        {
          "output_type": "display_data",
          "data": {
            "text/plain": [
              "<Figure size 1000x400 with 1 Axes>"
            ],
            "image/png": "[encoded data removed]"
          },
          "metadata": {}
        }
      ]
    },
    {
      "cell_type": "markdown",
      "source": [
        "# Optional: visualize weight evolution for 1st weight in w1 and w2"
      ],
      "metadata": {
        "id": "SD9Omitt4txS"
      }
    },
    {
      "cell_type": "code",
      "source": [
        "w1_first_weight = [w[0][0] for w in w1_snapshot]\n",
        "w2_first_weight = [w[0][0] for w in w2_snapshot]\n",
        "\n",
        "plt.figure(figsize=(10, 4))\n",
        "plt.plot(w1_first_weight, label='w1[0][0]')\n",
        "plt.plot(w2_first_weight, label='w2[0][0]')\n",
        "plt.title(\"Weight Evolution During Training\")\n",
        "plt.xlabel(\"Checkpoint (every 100 epochs)\")\n",
        "plt.ylabel(\"Weight Value\")\n",
        "plt.grid(True)\n",
        "plt.legend()\n",
        "\n",
        "plt.show()"
      ],
      "metadata": {
        "colab": {
          "base_uri": "https://localhost:8080/",
          "height": 410
        },
        "id": "GmJO9EEcH9oV",
        "outputId": "4b8242c7-2fdd-452d-b989-d2157e1cd47a"
      },
      "execution_count": 12,
      "outputs": [
        {
          "output_type": "display_data",
          "data": {
            "text/plain": [
              "<Figure size 1000x400 with 1 Axes>"
            ],
            "image/png": "[encoded data removed]"
          },
          "metadata": {}
        }
      ]
    },
    {
      "cell_type": "code",
      "source": [],
      "metadata": {
        "id": "onViBdh1EuQT"
      },
      "execution_count": 10,
      "outputs": []
    }
  ]
}